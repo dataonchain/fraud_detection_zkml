{
 "cells": [
  {
   "cell_type": "code",
   "execution_count": 1,
   "metadata": {},
   "outputs": [],
   "source": [
    "import numpy as np\n",
    "import pandas as pd\n",
    "import math"
   ]
  },
  {
   "cell_type": "markdown",
   "metadata": {},
   "source": [
    "## Simulated Transactional Data"
   ]
  },
  {
   "cell_type": "markdown",
   "metadata": {},
   "source": [
    "Next, we import the simulated transactional data, which records 400 transactions over a 12-month period. These data have the following fields:\n",
    "\n",
    "1. DATE: Date of transaction\n",
    "2. COUNTRY BANK ORIGIN: Bank country originator transaction\n",
    "3. RISK COUNTRY BANK ORIGIN: Risk of Bank country originator transaction\t\n",
    "4. COUNTRY BANK DESTINATION: Bank country reception transaction\n",
    "5. RISK COUNTRY BANK DESTINATION: Risk of Bank country reception transaction\n",
    "6. RISK COUNTRY: The highest risk of the countries involved in the transaction.\t\n",
    "7. OCCUPATION:\tOccupation of customer involved in the transaction (Businessman,Employee,Housewife,Student)\n",
    "8. OCCUPATION RISK: Risk of occupation \n",
    "9. CUSTOMER ID: Id of customer\n",
    "10. AMOUNT: Transaction amount\n",
    "11. CUSTOMER RISK:\tRisk of customer (1-low,2-medium,3-high)\n",
    "12. TRANSACTION TYPE: Type of transaction (Debit, Credit)\n",
    "13. CAT: The variable that tells us whether a transaction was unusual or not (1 = Unusual, 0 = Usual)"
   ]
  },
  {
   "cell_type": "code",
   "execution_count": 2,
   "metadata": {},
   "outputs": [],
   "source": [
    "df1 = pd.read_excel('TXN_DATA.xlsx', sheet_name=\"Data\")"
   ]
  },
  {
   "cell_type": "code",
   "execution_count": 3,
   "metadata": {},
   "outputs": [
    {
     "data": {
      "text/html": [
       "<div>\n",
       "<style scoped>\n",
       "    .dataframe tbody tr th:only-of-type {\n",
       "        vertical-align: middle;\n",
       "    }\n",
       "\n",
       "    .dataframe tbody tr th {\n",
       "        vertical-align: top;\n",
       "    }\n",
       "\n",
       "    .dataframe thead th {\n",
       "        text-align: right;\n",
       "    }\n",
       "</style>\n",
       "<table border=\"1\" class=\"dataframe\">\n",
       "  <thead>\n",
       "    <tr style=\"text-align: right;\">\n",
       "      <th></th>\n",
       "      <th>DATE</th>\n",
       "      <th>COUNTRY BANK ORIGIN</th>\n",
       "      <th>RISK COUNTRY BANK ORIGIN</th>\n",
       "      <th>COUNTRY BANK DESTINATION</th>\n",
       "      <th>RISK COUNTRY BANK DESTINATION</th>\n",
       "      <th>RISK COUNTRY</th>\n",
       "      <th>OCCUPATION</th>\n",
       "      <th>OCCUPATION RISK</th>\n",
       "      <th>CUSTOMER ID</th>\n",
       "      <th>AMOUNT2</th>\n",
       "      <th>CUSTOMER RISK</th>\n",
       "      <th>TRANSACTION TYPE</th>\n",
       "      <th>CAT</th>\n",
       "    </tr>\n",
       "  </thead>\n",
       "  <tbody>\n",
       "    <tr>\n",
       "      <th>0</th>\n",
       "      <td>2022-01-02</td>\n",
       "      <td>Thailand</td>\n",
       "      <td>Medium</td>\n",
       "      <td>The Democratic Republic Of The Congo</td>\n",
       "      <td>High</td>\n",
       "      <td>3</td>\n",
       "      <td>Housewife</td>\n",
       "      <td>1</td>\n",
       "      <td>27</td>\n",
       "      <td>11.543591</td>\n",
       "      <td>1</td>\n",
       "      <td>Entrante</td>\n",
       "      <td>0</td>\n",
       "    </tr>\n",
       "    <tr>\n",
       "      <th>1</th>\n",
       "      <td>2022-01-03</td>\n",
       "      <td>Thailand</td>\n",
       "      <td>Medium</td>\n",
       "      <td>Australia</td>\n",
       "      <td>Low</td>\n",
       "      <td>2</td>\n",
       "      <td>Businessman</td>\n",
       "      <td>3</td>\n",
       "      <td>77</td>\n",
       "      <td>2692.271638</td>\n",
       "      <td>1</td>\n",
       "      <td>Entrante</td>\n",
       "      <td>0</td>\n",
       "    </tr>\n",
       "    <tr>\n",
       "      <th>2</th>\n",
       "      <td>2022-01-03</td>\n",
       "      <td>Andorra</td>\n",
       "      <td>Low</td>\n",
       "      <td>Bhután</td>\n",
       "      <td>Low</td>\n",
       "      <td>1</td>\n",
       "      <td>Student</td>\n",
       "      <td>1</td>\n",
       "      <td>37</td>\n",
       "      <td>225.207654</td>\n",
       "      <td>1</td>\n",
       "      <td>Entrante</td>\n",
       "      <td>0</td>\n",
       "    </tr>\n",
       "    <tr>\n",
       "      <th>3</th>\n",
       "      <td>2022-01-05</td>\n",
       "      <td>Cuba</td>\n",
       "      <td>High</td>\n",
       "      <td>United States</td>\n",
       "      <td>Low</td>\n",
       "      <td>3</td>\n",
       "      <td>Employee</td>\n",
       "      <td>1</td>\n",
       "      <td>12</td>\n",
       "      <td>46.812418</td>\n",
       "      <td>1</td>\n",
       "      <td>Saliente</td>\n",
       "      <td>0</td>\n",
       "    </tr>\n",
       "    <tr>\n",
       "      <th>4</th>\n",
       "      <td>2022-01-06</td>\n",
       "      <td>Norway</td>\n",
       "      <td>Low</td>\n",
       "      <td>Andorra</td>\n",
       "      <td>Low</td>\n",
       "      <td>1</td>\n",
       "      <td>Businessman</td>\n",
       "      <td>3</td>\n",
       "      <td>70</td>\n",
       "      <td>787.839259</td>\n",
       "      <td>1</td>\n",
       "      <td>Entrante</td>\n",
       "      <td>0</td>\n",
       "    </tr>\n",
       "  </tbody>\n",
       "</table>\n",
       "</div>"
      ],
      "text/plain": [
       "        DATE COUNTRY BANK ORIGIN RISK COUNTRY BANK ORIGIN  \\\n",
       "0 2022-01-02            Thailand                   Medium   \n",
       "1 2022-01-03            Thailand                   Medium   \n",
       "2 2022-01-03             Andorra                      Low   \n",
       "3 2022-01-05                Cuba                     High   \n",
       "4 2022-01-06              Norway                      Low   \n",
       "\n",
       "               COUNTRY BANK DESTINATION RISK COUNTRY BANK DESTINATION  \\\n",
       "0  The Democratic Republic Of The Congo                          High   \n",
       "1                             Australia                           Low   \n",
       "2                                Bhután                           Low   \n",
       "3                         United States                           Low   \n",
       "4                               Andorra                           Low   \n",
       "\n",
       "   RISK COUNTRY   OCCUPATION  OCCUPATION RISK  CUSTOMER ID      AMOUNT2  \\\n",
       "0             3    Housewife                1           27    11.543591   \n",
       "1             2  Businessman                3           77  2692.271638   \n",
       "2             1      Student                1           37   225.207654   \n",
       "3             3     Employee                1           12    46.812418   \n",
       "4             1  Businessman                3           70   787.839259   \n",
       "\n",
       "   CUSTOMER RISK TRANSACTION TYPE  CAT  \n",
       "0              1         Entrante    0  \n",
       "1              1         Entrante    0  \n",
       "2              1         Entrante    0  \n",
       "3              1         Saliente    0  \n",
       "4              1         Entrante    0  "
      ]
     },
     "execution_count": 3,
     "metadata": {},
     "output_type": "execute_result"
    }
   ],
   "source": [
    "df1.head()"
   ]
  },
  {
   "cell_type": "markdown",
   "metadata": {},
   "source": [
    "## AHP Pairwise Matrix\n",
    "Below is the pairwise matrix where the Saaty scale was used:\n",
    "\n",
    "### Saaty's Comparison Scale\n",
    "1. **1** EQUAL IMPORTANCE\n",
    "2. **3** MODERATELY IMPORTANT\n",
    "3. **5** STRONGLY IMPORTANT\n",
    "4. **7** VERY STRONGLY IMPORTANT\n",
    "5. **9** EXTREMELY IMPORTANT\n",
    "\n",
    "We apply this scale to the factors:\n",
    "\n",
    "1. BANK COUNTRY\n",
    "2. OCCUPATION\n",
    "3. CUSTOMER RISK"
   ]
  },
  {
   "cell_type": "markdown",
   "metadata": {},
   "source": [
    "|   FACTORS     | BANK COUNTRY  | OCCUPATION | CUSTOMER RISK | \n",
    "|---------------|---------------|------------|---------------|\n",
    "| BANK COUNTRY  | 1.000         | 3.000      | 7.000         | \n",
    "| OCCUPATION    | 0.333         | 1.000      | 3.000         |\n",
    "| CUSTOMER RISK | 0.143         | 0.333      | 1.000         | \n",
    "\n",
    "This matrix recorded a consistency ratio of RC=0.05, therefore, we assume consistency and proceed with the calculation of weights that will allow us to convert the qualitative aspects of transactionality into a numerical variable."
   ]
  },
  {
   "cell_type": "markdown",
   "metadata": {},
   "source": [
    "## Weightings of the factors"
   ]
  },
  {
   "cell_type": "markdown",
   "metadata": {},
   "source": [
    "|   FACTORS     |    WEIGHT     | \n",
    "|---------------|---------------|\n",
    "| BANK COUNTRY  |     0.67      | \n",
    "| OCCUPATION    |     0.25      | \n",
    "| CUSTOMER RISK |     0.09      |"
   ]
  },
  {
   "cell_type": "markdown",
   "metadata": {},
   "source": [
    "Under these weightings, the quantification of risk factors is calculated, and the **QPuntuation** field is obtained in the data matrix that we will use for unusual transaction detection. Additionally, the following variables are incorporated into this data matrix:\n",
    "\n",
    "1. **TxJurisdiction**: An indicator that compares the transaction amount with the transactionality of the bank's country according to its risk.\n",
    "2. **TxCustomer**: An indicator that compares the transaction amount with the transactionality of the customer.\n",
    "3. **TxRisk**: An indicator that compares the transaction amount with the transactionality of customers according to their risk.\n",
    "4. **TxOccupation**: An indicator that compares the transaction amount with the transactionality of customers according to their occupation."
   ]
  },
  {
   "cell_type": "code",
   "execution_count": 4,
   "metadata": {},
   "outputs": [],
   "source": [
    "df = pd.read_excel('TXN_DATA.xlsx', sheet_name='PCAMatrix')"
   ]
  },
  {
   "cell_type": "code",
   "execution_count": 5,
   "metadata": {},
   "outputs": [
    {
     "data": {
      "text/html": [
       "<div>\n",
       "<style scoped>\n",
       "    .dataframe tbody tr th:only-of-type {\n",
       "        vertical-align: middle;\n",
       "    }\n",
       "\n",
       "    .dataframe tbody tr th {\n",
       "        vertical-align: top;\n",
       "    }\n",
       "\n",
       "    .dataframe thead th {\n",
       "        text-align: right;\n",
       "    }\n",
       "</style>\n",
       "<table border=\"1\" class=\"dataframe\">\n",
       "  <thead>\n",
       "    <tr style=\"text-align: right;\">\n",
       "      <th></th>\n",
       "      <th>CUSTOMER ID</th>\n",
       "      <th>QPuntuation</th>\n",
       "      <th>TxJurisdiction</th>\n",
       "      <th>TxCustomer</th>\n",
       "      <th>TxRisk</th>\n",
       "      <th>TxOccupation</th>\n",
       "      <th>CAT</th>\n",
       "    </tr>\n",
       "  </thead>\n",
       "  <tbody>\n",
       "    <tr>\n",
       "      <th>0</th>\n",
       "      <td>27</td>\n",
       "      <td>2.35</td>\n",
       "      <td>0.002674</td>\n",
       "      <td>0.007524</td>\n",
       "      <td>0.002360</td>\n",
       "      <td>0.002763</td>\n",
       "      <td>0</td>\n",
       "    </tr>\n",
       "    <tr>\n",
       "      <th>1</th>\n",
       "      <td>77</td>\n",
       "      <td>1.86</td>\n",
       "      <td>0.353034</td>\n",
       "      <td>1.569971</td>\n",
       "      <td>0.550359</td>\n",
       "      <td>0.262313</td>\n",
       "      <td>0</td>\n",
       "    </tr>\n",
       "    <tr>\n",
       "      <th>2</th>\n",
       "      <td>37</td>\n",
       "      <td>1.10</td>\n",
       "      <td>0.100259</td>\n",
       "      <td>2.988329</td>\n",
       "      <td>0.046037</td>\n",
       "      <td>0.051718</td>\n",
       "      <td>0</td>\n",
       "    </tr>\n",
       "    <tr>\n",
       "      <th>3</th>\n",
       "      <td>12</td>\n",
       "      <td>2.35</td>\n",
       "      <td>0.010844</td>\n",
       "      <td>0.033598</td>\n",
       "      <td>0.009569</td>\n",
       "      <td>0.016726</td>\n",
       "      <td>0</td>\n",
       "    </tr>\n",
       "    <tr>\n",
       "      <th>4</th>\n",
       "      <td>70</td>\n",
       "      <td>1.01</td>\n",
       "      <td>0.350735</td>\n",
       "      <td>2.794750</td>\n",
       "      <td>0.161051</td>\n",
       "      <td>0.076761</td>\n",
       "      <td>0</td>\n",
       "    </tr>\n",
       "  </tbody>\n",
       "</table>\n",
       "</div>"
      ],
      "text/plain": [
       "   CUSTOMER ID  QPuntuation  TxJurisdiction  TxCustomer    TxRisk  \\\n",
       "0           27         2.35        0.002674    0.007524  0.002360   \n",
       "1           77         1.86        0.353034    1.569971  0.550359   \n",
       "2           37         1.10        0.100259    2.988329  0.046037   \n",
       "3           12         2.35        0.010844    0.033598  0.009569   \n",
       "4           70         1.01        0.350735    2.794750  0.161051   \n",
       "\n",
       "   TxOccupation  CAT  \n",
       "0      0.002763    0  \n",
       "1      0.262313    0  \n",
       "2      0.051718    0  \n",
       "3      0.016726    0  \n",
       "4      0.076761    0  "
      ]
     },
     "execution_count": 5,
     "metadata": {},
     "output_type": "execute_result"
    }
   ],
   "source": [
    "df.head()"
   ]
  },
  {
   "cell_type": "markdown",
   "metadata": {},
   "source": [
    "For the purposes of the project, we incorporate the variable \"EYE\" so that after applying PCA, we can validate the prediction of unusual transactions and, consequently, assess the efficiency of the method in detecting unusual aspects in them."
   ]
  },
  {
   "cell_type": "markdown",
   "metadata": {},
   "source": [
    "Next, we separate the quantitative variables that we will use for classification."
   ]
  },
  {
   "cell_type": "code",
   "execution_count": 6,
   "metadata": {},
   "outputs": [],
   "source": [
    "X, y  = df.iloc[:,1:6].values, df.loc[:,\"CAT\"].values"
   ]
  },
  {
   "cell_type": "code",
   "execution_count": 7,
   "metadata": {},
   "outputs": [],
   "source": [
    "mu = np.mean(X, axis=0)\n",
    "sigma = np.std(X, axis=0)\n",
    "X_std = (X - mu)/sigma"
   ]
  },
  {
   "cell_type": "markdown",
   "metadata": {},
   "source": [
    "### <span style='color:Black'> **Generating Cairo files**  </span>"
   ]
  },
  {
   "cell_type": "code",
   "execution_count": 8,
   "metadata": {},
   "outputs": [],
   "source": [
    "def decimal_to_fp16x16(num):\n",
    "\n",
    "    whole_num = int(num)\n",
    "    fractional_part = int((num - whole_num) * 65536)\n",
    "    fp_number = (whole_num << 16) + fractional_part\n",
    "    return fp_number"
   ]
  },
  {
   "cell_type": "code",
   "execution_count": 9,
   "metadata": {},
   "outputs": [],
   "source": [
    "import os"
   ]
  },
  {
   "cell_type": "code",
   "execution_count": 10,
   "metadata": {},
   "outputs": [],
   "source": [
    "current_directory = os.getcwd()\n",
    "parent_directory = os.path.dirname(current_directory)\n",
    "new_directory_path = os.path.join(parent_directory, \"src/generated\")"
   ]
  },
  {
   "cell_type": "code",
   "execution_count": 11,
   "metadata": {},
   "outputs": [],
   "source": [
    "os.makedirs('src/generated', exist_ok=True)"
   ]
  },
  {
   "cell_type": "code",
   "execution_count": 12,
   "metadata": {},
   "outputs": [],
   "source": [
    "tensor_name = [\"X\",\"X_std\",\"y\"]  \n",
    "\n",
    "def generate_cairo_files(data, name):\n",
    "\n",
    "    with open(os.path.join('src', 'generated', f\"{name}.cairo\"), \"w\") as f:\n",
    "        f.write(\n",
    "            \"use core::array::{ArrayTrait, SpanTrait};\\n\" +\n",
    "            \"use orion::operators::tensor::{core::{Tensor, TensorTrait}};\\n\" +\n",
    "            \"use orion::operators::tensor::FP16x16Tensor;\\n\" +\n",
    "            \"use orion::numbers::fixed_point::implementations::fp16x16::core::{FP16x16, FixedTrait};\\n\" +\n",
    "            \"\\n\" + f\"fn {name}() -> Tensor<FP16x16>\" + \"{\\n\\n\" + \n",
    "            \"let mut shape = ArrayTrait::new();\\n\"\n",
    "        )\n",
    "        for dim in data.shape:\n",
    "            f.write(f\"shape.append({dim});\\n\")\n",
    "    \n",
    "        f.write(\"let mut data = ArrayTrait::new();\\n\")\n",
    "        for val in np.nditer(data.flatten()):\n",
    "            f.write(f\"data.append(FixedTrait::new({abs(int(decimal_to_fp16x16(val)))}, {str(val < 0).lower()}));\\n\")\n",
    "        f.write(\n",
    "            \"let tensor = TensorTrait::<FP16x16>::new(shape.span(), data.span());\\n\" +\n",
    "            \"return tensor;\\n}\"\n",
    "        )\n",
    "\n",
    "with open(f\"src/generated.cairo\", \"w\") as f:\n",
    "    for n in tensor_name:\n",
    "        f.write(f\"mod {n};\\n\")\n",
    "\n",
    "generate_cairo_files(X, \"X\")\n",
    "generate_cairo_files(X_std, \"X_std\")\n",
    "generate_cairo_files(y, \"y\")"
   ]
  }
 ],
 "metadata": {
  "kernelspec": {
   "display_name": "Python 3",
   "language": "python",
   "name": "python3"
  },
  "language_info": {
   "codemirror_mode": {
    "name": "ipython",
    "version": 3
   },
   "file_extension": ".py",
   "mimetype": "text/x-python",
   "name": "python",
   "nbconvert_exporter": "python",
   "pygments_lexer": "ipython3",
   "version": "3.10.12"
  }
 },
 "nbformat": 4,
 "nbformat_minor": 2
}
